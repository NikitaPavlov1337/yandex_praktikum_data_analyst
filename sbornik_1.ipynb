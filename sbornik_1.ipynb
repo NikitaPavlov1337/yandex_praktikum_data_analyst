{
 "cells": [
  {
   "cell_type": "markdown",
   "metadata": {},
   "source": [
    "<font color='blue'> Привет. Поздравляю с первым сборным проектом. Ниже мои комментарии выделены синим. </font>"
   ]
  },
  {
   "cell_type": "markdown",
   "metadata": {},
   "source": [
    "# Описание Проекта"
   ]
  },
  {
   "cell_type": "markdown",
   "metadata": {},
   "source": [
    "Вы работаете в интернет-магазине «Стримчик», который продаёт по всему миру компьютерные игры. Из открытых источников доступны исторические данные о продажах игр, оценки пользователей и экспертов, жанры и платформы (например, Xbox или PlayStation). Вам нужно выявить определяющие успешность игры закономерности. Это позволит сделать ставку на потенциально популярный продукт и спланировать рекламные кампании.\n",
    "Перед вами данные до 2016 года. Представим, что сейчас декабрь 2016 г., и вы планируете кампанию на 2017-й. Нужно отработать принцип работы с данными. Не важно, прогнозируете ли вы продажи на 2017 год по данным 2016-го или же 2027-й — по данным 2026 года.\n",
    "В наборе данных попадается аббревиатура ESRB (Entertainment Software Rating Board) — это ассоциация, определяющая возрастной рейтинг компьютерных игр. ESRB оценивает игровой контент и присваивает ему подходящую возрастную категорию, например, «Для взрослых», «Для детей младшего возраста» или «Для подростков».\n",
    "\n",
    "\n",
    "Описание данных\n",
    "Name — название игры\n",
    "Platform — платформа\n",
    "Year_of_Release — год выпуска\n",
    "Genre — жанр игры\n",
    "NA_sales — продажи в Северной Америке (миллионы долларов)\n",
    "EU_sales — продажи в Европе (миллионы долларов)\n",
    "JP_sales — продажи в Японии (миллионы долларов)\n",
    "Other_sales — продажи в других странах (миллионы долларов)\n",
    "Critic_Score — оценка критиков (максимум 100)\n",
    "User_Score — оценка пользователей (максимум 10)\n",
    "Rating — рейтинг от организации ESRB (англ. Entertainment Software Rating Board). Эта ассоциация определяет рейтинг компьютерных игр и присваивает им подходящую возрастную категорию.\n",
    "Данные за 2016 год могут быть неполными."
   ]
  },
  {
   "cell_type": "markdown",
   "metadata": {},
   "source": [
    "# Шаг 1. Открою файл "
   ]
  },
  {
   "cell_type": "code",
   "execution_count": 3,
   "metadata": {},
   "outputs": [],
   "source": [
    "# загружу все необходимые библиотеки и открою файл games.csv\n",
    "\n",
    "import pandas as pd\n",
    "import numpy as np\n",
    "from scipy import stats as st\n",
    "from scipy.stats import ttest_ind\n",
    "%matplotlib inline\n",
    "import seaborn as sns\n",
    "import matplotlib.pyplot as plt\n",
    "import plotly.express as px\n",
    "import plotly.graph_objects as go\n",
    "from plotly.subplots import make_subplots\n",
    "from plotly.offline import download_plotlyjs, init_notebook_mode, plot, iplot\n",
    "import plotly\n",
    "\n",
    "games = pd.read_csv('/datasets/games.csv')"
   ]
  },
  {
   "cell_type": "markdown",
   "metadata": {},
   "source": [
    "Посмотрю на данные и проверяю соответствие типов данных "
   ]
  },
  {
   "cell_type": "code",
   "execution_count": 4,
   "metadata": {},
   "outputs": [
    {
     "name": "stdout",
     "output_type": "stream",
     "text": [
      "<class 'pandas.core.frame.DataFrame'>\n",
      "RangeIndex: 16715 entries, 0 to 16714\n",
      "Data columns (total 11 columns):\n",
      "Name               16713 non-null object\n",
      "Platform           16715 non-null object\n",
      "Year_of_Release    16446 non-null float64\n",
      "Genre              16713 non-null object\n",
      "NA_sales           16715 non-null float64\n",
      "EU_sales           16715 non-null float64\n",
      "JP_sales           16715 non-null float64\n",
      "Other_sales        16715 non-null float64\n",
      "Critic_Score       8137 non-null float64\n",
      "User_Score         10014 non-null object\n",
      "Rating             9949 non-null object\n",
      "dtypes: float64(6), object(5)\n",
      "memory usage: 1.4+ MB\n"
     ]
    }
   ],
   "source": [
    "games.info()"
   ]
  },
  {
   "cell_type": "code",
   "execution_count": 5,
   "metadata": {},
   "outputs": [
    {
     "data": {
      "text/html": [
       "<div>\n",
       "<style scoped>\n",
       "    .dataframe tbody tr th:only-of-type {\n",
       "        vertical-align: middle;\n",
       "    }\n",
       "\n",
       "    .dataframe tbody tr th {\n",
       "        vertical-align: top;\n",
       "    }\n",
       "\n",
       "    .dataframe thead th {\n",
       "        text-align: right;\n",
       "    }\n",
       "</style>\n",
       "<table border=\"1\" class=\"dataframe\">\n",
       "  <thead>\n",
       "    <tr style=\"text-align: right;\">\n",
       "      <th></th>\n",
       "      <th>Name</th>\n",
       "      <th>Platform</th>\n",
       "      <th>Year_of_Release</th>\n",
       "      <th>Genre</th>\n",
       "      <th>NA_sales</th>\n",
       "      <th>EU_sales</th>\n",
       "      <th>JP_sales</th>\n",
       "      <th>Other_sales</th>\n",
       "      <th>Critic_Score</th>\n",
       "      <th>User_Score</th>\n",
       "      <th>Rating</th>\n",
       "    </tr>\n",
       "  </thead>\n",
       "  <tbody>\n",
       "    <tr>\n",
       "      <td>0</td>\n",
       "      <td>Wii Sports</td>\n",
       "      <td>Wii</td>\n",
       "      <td>2006.0</td>\n",
       "      <td>Sports</td>\n",
       "      <td>41.36</td>\n",
       "      <td>28.96</td>\n",
       "      <td>3.77</td>\n",
       "      <td>8.45</td>\n",
       "      <td>76.0</td>\n",
       "      <td>8</td>\n",
       "      <td>E</td>\n",
       "    </tr>\n",
       "    <tr>\n",
       "      <td>1</td>\n",
       "      <td>Super Mario Bros.</td>\n",
       "      <td>NES</td>\n",
       "      <td>1985.0</td>\n",
       "      <td>Platform</td>\n",
       "      <td>29.08</td>\n",
       "      <td>3.58</td>\n",
       "      <td>6.81</td>\n",
       "      <td>0.77</td>\n",
       "      <td>NaN</td>\n",
       "      <td>NaN</td>\n",
       "      <td>NaN</td>\n",
       "    </tr>\n",
       "    <tr>\n",
       "      <td>2</td>\n",
       "      <td>Mario Kart Wii</td>\n",
       "      <td>Wii</td>\n",
       "      <td>2008.0</td>\n",
       "      <td>Racing</td>\n",
       "      <td>15.68</td>\n",
       "      <td>12.76</td>\n",
       "      <td>3.79</td>\n",
       "      <td>3.29</td>\n",
       "      <td>82.0</td>\n",
       "      <td>8.3</td>\n",
       "      <td>E</td>\n",
       "    </tr>\n",
       "    <tr>\n",
       "      <td>3</td>\n",
       "      <td>Wii Sports Resort</td>\n",
       "      <td>Wii</td>\n",
       "      <td>2009.0</td>\n",
       "      <td>Sports</td>\n",
       "      <td>15.61</td>\n",
       "      <td>10.93</td>\n",
       "      <td>3.28</td>\n",
       "      <td>2.95</td>\n",
       "      <td>80.0</td>\n",
       "      <td>8</td>\n",
       "      <td>E</td>\n",
       "    </tr>\n",
       "    <tr>\n",
       "      <td>4</td>\n",
       "      <td>Pokemon Red/Pokemon Blue</td>\n",
       "      <td>GB</td>\n",
       "      <td>1996.0</td>\n",
       "      <td>Role-Playing</td>\n",
       "      <td>11.27</td>\n",
       "      <td>8.89</td>\n",
       "      <td>10.22</td>\n",
       "      <td>1.00</td>\n",
       "      <td>NaN</td>\n",
       "      <td>NaN</td>\n",
       "      <td>NaN</td>\n",
       "    </tr>\n",
       "    <tr>\n",
       "      <td>5</td>\n",
       "      <td>Tetris</td>\n",
       "      <td>GB</td>\n",
       "      <td>1989.0</td>\n",
       "      <td>Puzzle</td>\n",
       "      <td>23.20</td>\n",
       "      <td>2.26</td>\n",
       "      <td>4.22</td>\n",
       "      <td>0.58</td>\n",
       "      <td>NaN</td>\n",
       "      <td>NaN</td>\n",
       "      <td>NaN</td>\n",
       "    </tr>\n",
       "    <tr>\n",
       "      <td>6</td>\n",
       "      <td>New Super Mario Bros.</td>\n",
       "      <td>DS</td>\n",
       "      <td>2006.0</td>\n",
       "      <td>Platform</td>\n",
       "      <td>11.28</td>\n",
       "      <td>9.14</td>\n",
       "      <td>6.50</td>\n",
       "      <td>2.88</td>\n",
       "      <td>89.0</td>\n",
       "      <td>8.5</td>\n",
       "      <td>E</td>\n",
       "    </tr>\n",
       "    <tr>\n",
       "      <td>7</td>\n",
       "      <td>Wii Play</td>\n",
       "      <td>Wii</td>\n",
       "      <td>2006.0</td>\n",
       "      <td>Misc</td>\n",
       "      <td>13.96</td>\n",
       "      <td>9.18</td>\n",
       "      <td>2.93</td>\n",
       "      <td>2.84</td>\n",
       "      <td>58.0</td>\n",
       "      <td>6.6</td>\n",
       "      <td>E</td>\n",
       "    </tr>\n",
       "    <tr>\n",
       "      <td>8</td>\n",
       "      <td>New Super Mario Bros. Wii</td>\n",
       "      <td>Wii</td>\n",
       "      <td>2009.0</td>\n",
       "      <td>Platform</td>\n",
       "      <td>14.44</td>\n",
       "      <td>6.94</td>\n",
       "      <td>4.70</td>\n",
       "      <td>2.24</td>\n",
       "      <td>87.0</td>\n",
       "      <td>8.4</td>\n",
       "      <td>E</td>\n",
       "    </tr>\n",
       "    <tr>\n",
       "      <td>9</td>\n",
       "      <td>Duck Hunt</td>\n",
       "      <td>NES</td>\n",
       "      <td>1984.0</td>\n",
       "      <td>Shooter</td>\n",
       "      <td>26.93</td>\n",
       "      <td>0.63</td>\n",
       "      <td>0.28</td>\n",
       "      <td>0.47</td>\n",
       "      <td>NaN</td>\n",
       "      <td>NaN</td>\n",
       "      <td>NaN</td>\n",
       "    </tr>\n",
       "    <tr>\n",
       "      <td>10</td>\n",
       "      <td>Nintendogs</td>\n",
       "      <td>DS</td>\n",
       "      <td>2005.0</td>\n",
       "      <td>Simulation</td>\n",
       "      <td>9.05</td>\n",
       "      <td>10.95</td>\n",
       "      <td>1.93</td>\n",
       "      <td>2.74</td>\n",
       "      <td>NaN</td>\n",
       "      <td>NaN</td>\n",
       "      <td>NaN</td>\n",
       "    </tr>\n",
       "    <tr>\n",
       "      <td>11</td>\n",
       "      <td>Mario Kart DS</td>\n",
       "      <td>DS</td>\n",
       "      <td>2005.0</td>\n",
       "      <td>Racing</td>\n",
       "      <td>9.71</td>\n",
       "      <td>7.47</td>\n",
       "      <td>4.13</td>\n",
       "      <td>1.90</td>\n",
       "      <td>91.0</td>\n",
       "      <td>8.6</td>\n",
       "      <td>E</td>\n",
       "    </tr>\n",
       "    <tr>\n",
       "      <td>12</td>\n",
       "      <td>Pokemon Gold/Pokemon Silver</td>\n",
       "      <td>GB</td>\n",
       "      <td>1999.0</td>\n",
       "      <td>Role-Playing</td>\n",
       "      <td>9.00</td>\n",
       "      <td>6.18</td>\n",
       "      <td>7.20</td>\n",
       "      <td>0.71</td>\n",
       "      <td>NaN</td>\n",
       "      <td>NaN</td>\n",
       "      <td>NaN</td>\n",
       "    </tr>\n",
       "    <tr>\n",
       "      <td>13</td>\n",
       "      <td>Wii Fit</td>\n",
       "      <td>Wii</td>\n",
       "      <td>2007.0</td>\n",
       "      <td>Sports</td>\n",
       "      <td>8.92</td>\n",
       "      <td>8.03</td>\n",
       "      <td>3.60</td>\n",
       "      <td>2.15</td>\n",
       "      <td>80.0</td>\n",
       "      <td>7.7</td>\n",
       "      <td>E</td>\n",
       "    </tr>\n",
       "    <tr>\n",
       "      <td>14</td>\n",
       "      <td>Kinect Adventures!</td>\n",
       "      <td>X360</td>\n",
       "      <td>2010.0</td>\n",
       "      <td>Misc</td>\n",
       "      <td>15.00</td>\n",
       "      <td>4.89</td>\n",
       "      <td>0.24</td>\n",
       "      <td>1.69</td>\n",
       "      <td>61.0</td>\n",
       "      <td>6.3</td>\n",
       "      <td>E</td>\n",
       "    </tr>\n",
       "  </tbody>\n",
       "</table>\n",
       "</div>"
      ],
      "text/plain": [
       "                           Name Platform  Year_of_Release         Genre  \\\n",
       "0                    Wii Sports      Wii           2006.0        Sports   \n",
       "1             Super Mario Bros.      NES           1985.0      Platform   \n",
       "2                Mario Kart Wii      Wii           2008.0        Racing   \n",
       "3             Wii Sports Resort      Wii           2009.0        Sports   \n",
       "4      Pokemon Red/Pokemon Blue       GB           1996.0  Role-Playing   \n",
       "5                        Tetris       GB           1989.0        Puzzle   \n",
       "6         New Super Mario Bros.       DS           2006.0      Platform   \n",
       "7                      Wii Play      Wii           2006.0          Misc   \n",
       "8     New Super Mario Bros. Wii      Wii           2009.0      Platform   \n",
       "9                     Duck Hunt      NES           1984.0       Shooter   \n",
       "10                   Nintendogs       DS           2005.0    Simulation   \n",
       "11                Mario Kart DS       DS           2005.0        Racing   \n",
       "12  Pokemon Gold/Pokemon Silver       GB           1999.0  Role-Playing   \n",
       "13                      Wii Fit      Wii           2007.0        Sports   \n",
       "14           Kinect Adventures!     X360           2010.0          Misc   \n",
       "\n",
       "    NA_sales  EU_sales  JP_sales  Other_sales  Critic_Score User_Score Rating  \n",
       "0      41.36     28.96      3.77         8.45          76.0          8      E  \n",
       "1      29.08      3.58      6.81         0.77           NaN        NaN    NaN  \n",
       "2      15.68     12.76      3.79         3.29          82.0        8.3      E  \n",
       "3      15.61     10.93      3.28         2.95          80.0          8      E  \n",
       "4      11.27      8.89     10.22         1.00           NaN        NaN    NaN  \n",
       "5      23.20      2.26      4.22         0.58           NaN        NaN    NaN  \n",
       "6      11.28      9.14      6.50         2.88          89.0        8.5      E  \n",
       "7      13.96      9.18      2.93         2.84          58.0        6.6      E  \n",
       "8      14.44      6.94      4.70         2.24          87.0        8.4      E  \n",
       "9      26.93      0.63      0.28         0.47           NaN        NaN    NaN  \n",
       "10      9.05     10.95      1.93         2.74           NaN        NaN    NaN  \n",
       "11      9.71      7.47      4.13         1.90          91.0        8.6      E  \n",
       "12      9.00      6.18      7.20         0.71           NaN        NaN    NaN  \n",
       "13      8.92      8.03      3.60         2.15          80.0        7.7      E  \n",
       "14     15.00      4.89      0.24         1.69          61.0        6.3      E  "
      ]
     },
     "execution_count": 5,
     "metadata": {},
     "output_type": "execute_result"
    }
   ],
   "source": [
    "games.head(15) \n",
    "#games['Platform'].unique()\n"
   ]
  },
  {
   "cell_type": "markdown",
   "metadata": {},
   "source": [
    "Первое что бросается в глаза огромное количество игровых платформ, чувствую что они и будут играть ключевую роль в построении гипотезы и категоризации данных. Для начала заведу себе понятный словарик по этим аббревиатурам\n",
    "\n",
    "Wii - Nintendo Wii (light-past console) - 2006\n",
    "\n",
    "Nes - Nintendo Entertainment System (8 bit console) - 1983\n",
    "\n",
    "GB - Game Boy (8 bit handed console) - 1989\n",
    "\n",
    "DS - Nintendo DS (handed console) - 2004\n",
    "\n",
    "X360 - Xbox 360 (light-past console) - 2005\n",
    "\n",
    "PS3 - PlayStation 3  (light-past console) - 2006\n",
    "\n",
    "PS2 - PlayStation 2  (old console) - 2000\n",
    "\n",
    "SNES - Super Nintendo Entertainment System (16 bit old console) - 1990\n",
    "\n",
    "GBA - Game Boy Advanse (16 bit handed console) - 2001\n",
    "\n",
    "PS4 - PlayStation 4  (modern console) - 2013\n",
    "\n",
    "3DS - Nintendo 3DS (modern handed console) - 2011\n",
    "\n",
    "N64 - Nintendo 64 (64 bit console) - 2002\n",
    "\n",
    "PS - PlayStation ( old console) - 1994\n",
    "\n",
    "XB - Xbox 1st generation (old console) - 2001\n",
    "\n",
    "PC - Prof.Computer \n",
    "\n",
    "2600 - Atari 2600 ( old 8 bit console) - 1977\n",
    "\n",
    "PSP - PlayStation Portable (handed console) - 2005\n",
    "\n",
    "XOne - X Box One  (modern console) - 2013\n",
    "\n",
    "Wii U - Wii U (modern console) - 2012\n",
    "\n",
    "GC - Nintendo GameCube (old console) - 2001\n",
    "\n",
    "GEN - Bluetooth Game Pad ( modern handed console)\n",
    "\n",
    "DC - Dreamcast (old video console) - 2001\n",
    "\n",
    "PSV - PlayStation Vita ( modern handed console) 2012\n",
    "\n",
    "SAT - Sega Saturn (old video console) - 1994\n",
    "\n",
    "SCD - Sega CD (old video console) - 1991\n",
    "\n",
    "WS - WonderSwan (handed console) - 2000\n",
    "\n",
    "NG - Neo Geo (old video console) - 1990\n",
    "\n",
    "TG16 - TurboGrafx-16 (old video console) - 1990\n",
    "\n",
    "3D0 - 3DO Interactive Multiplayer (old video console) - 1994\n",
    "\n",
    "GG - GameGear (old handed console) - 1990\n",
    "\n",
    "PCFX - PC-FX (old video console) - 1994 "
   ]
  },
  {
   "cell_type": "markdown",
   "metadata": {},
   "source": [
    "Проверю на дубликаты данные"
   ]
  },
  {
   "cell_type": "code",
   "execution_count": 6,
   "metadata": {},
   "outputs": [],
   "source": [
    "#проверю на дубликаты\n",
    "\n",
    "#games.duplicated().sum()\n",
    "\n",
    "#полных дубликатов нет - все гуд"
   ]
  },
  {
   "cell_type": "markdown",
   "metadata": {},
   "source": [
    "Перехожу в предобработку данных , там приведу таблицу в порядок \n",
    "\n",
    "<font color='blue'> Хорошо, рассмотрение достаточно подробное. </font>"
   ]
  },
  {
   "cell_type": "markdown",
   "metadata": {},
   "source": [
    "# Шаг 2. Предобработка данных"
   ]
  },
  {
   "cell_type": "code",
   "execution_count": 7,
   "metadata": {},
   "outputs": [
    {
     "data": {
      "text/html": [
       "<div>\n",
       "<style scoped>\n",
       "    .dataframe tbody tr th:only-of-type {\n",
       "        vertical-align: middle;\n",
       "    }\n",
       "\n",
       "    .dataframe tbody tr th {\n",
       "        vertical-align: top;\n",
       "    }\n",
       "\n",
       "    .dataframe thead th {\n",
       "        text-align: right;\n",
       "    }\n",
       "</style>\n",
       "<table border=\"1\" class=\"dataframe\">\n",
       "  <thead>\n",
       "    <tr style=\"text-align: right;\">\n",
       "      <th></th>\n",
       "      <th>name</th>\n",
       "      <th>platform</th>\n",
       "      <th>year_of_release</th>\n",
       "      <th>genre</th>\n",
       "      <th>na_sales</th>\n",
       "      <th>eu_sales</th>\n",
       "      <th>jp_sales</th>\n",
       "      <th>other_sales</th>\n",
       "      <th>critic_score</th>\n",
       "      <th>user_score</th>\n",
       "      <th>rating</th>\n",
       "      <th>total_sales</th>\n",
       "    </tr>\n",
       "  </thead>\n",
       "  <tbody>\n",
       "    <tr>\n",
       "      <td>0</td>\n",
       "      <td>Wii Sports</td>\n",
       "      <td>Wii</td>\n",
       "      <td>2006</td>\n",
       "      <td>Sports</td>\n",
       "      <td>41.36</td>\n",
       "      <td>28.96</td>\n",
       "      <td>3.77</td>\n",
       "      <td>8.45</td>\n",
       "      <td>76</td>\n",
       "      <td>80</td>\n",
       "      <td>E</td>\n",
       "      <td>82.54</td>\n",
       "    </tr>\n",
       "    <tr>\n",
       "      <td>1</td>\n",
       "      <td>Super Mario Bros.</td>\n",
       "      <td>NES</td>\n",
       "      <td>1985</td>\n",
       "      <td>Platform</td>\n",
       "      <td>29.08</td>\n",
       "      <td>3.58</td>\n",
       "      <td>6.81</td>\n",
       "      <td>0.77</td>\n",
       "      <td>0</td>\n",
       "      <td>0</td>\n",
       "      <td>No rating</td>\n",
       "      <td>40.24</td>\n",
       "    </tr>\n",
       "    <tr>\n",
       "      <td>2</td>\n",
       "      <td>Mario Kart Wii</td>\n",
       "      <td>Wii</td>\n",
       "      <td>2008</td>\n",
       "      <td>Racing</td>\n",
       "      <td>15.68</td>\n",
       "      <td>12.76</td>\n",
       "      <td>3.79</td>\n",
       "      <td>3.29</td>\n",
       "      <td>82</td>\n",
       "      <td>83</td>\n",
       "      <td>E</td>\n",
       "      <td>35.52</td>\n",
       "    </tr>\n",
       "    <tr>\n",
       "      <td>3</td>\n",
       "      <td>Wii Sports Resort</td>\n",
       "      <td>Wii</td>\n",
       "      <td>2009</td>\n",
       "      <td>Sports</td>\n",
       "      <td>15.61</td>\n",
       "      <td>10.93</td>\n",
       "      <td>3.28</td>\n",
       "      <td>2.95</td>\n",
       "      <td>80</td>\n",
       "      <td>80</td>\n",
       "      <td>E</td>\n",
       "      <td>32.77</td>\n",
       "    </tr>\n",
       "    <tr>\n",
       "      <td>4</td>\n",
       "      <td>Pokemon Red/Pokemon Blue</td>\n",
       "      <td>GB</td>\n",
       "      <td>1996</td>\n",
       "      <td>Role-Playing</td>\n",
       "      <td>11.27</td>\n",
       "      <td>8.89</td>\n",
       "      <td>10.22</td>\n",
       "      <td>1.00</td>\n",
       "      <td>0</td>\n",
       "      <td>0</td>\n",
       "      <td>No rating</td>\n",
       "      <td>31.38</td>\n",
       "    </tr>\n",
       "  </tbody>\n",
       "</table>\n",
       "</div>"
      ],
      "text/plain": [
       "                       name platform  year_of_release         genre  na_sales  \\\n",
       "0                Wii Sports      Wii             2006        Sports     41.36   \n",
       "1         Super Mario Bros.      NES             1985      Platform     29.08   \n",
       "2            Mario Kart Wii      Wii             2008        Racing     15.68   \n",
       "3         Wii Sports Resort      Wii             2009        Sports     15.61   \n",
       "4  Pokemon Red/Pokemon Blue       GB             1996  Role-Playing     11.27   \n",
       "\n",
       "   eu_sales  jp_sales  other_sales  critic_score  user_score     rating  \\\n",
       "0     28.96      3.77         8.45            76          80          E   \n",
       "1      3.58      6.81         0.77             0           0  No rating   \n",
       "2     12.76      3.79         3.29            82          83          E   \n",
       "3     10.93      3.28         2.95            80          80          E   \n",
       "4      8.89     10.22         1.00             0           0  No rating   \n",
       "\n",
       "   total_sales  \n",
       "0        82.54  \n",
       "1        40.24  \n",
       "2        35.52  \n",
       "3        32.77  \n",
       "4        31.38  "
      ]
     },
     "execution_count": 7,
     "metadata": {},
     "output_type": "execute_result"
    }
   ],
   "source": [
    "# замените название столбцов (приведите к нижнему регистру)\n",
    "\n",
    "games.columns = games.columns.str.lower()\n",
    "\n",
    "\n",
    "# проверю данные на пропуски по столбцам\n",
    "#games['name'].isnull().sum()\n",
    "\n",
    "#всего 2 пропуска, значение смешное, но продажи этих игр тоже должны быть учтены, поменяю им название на \"неопределенное\"\n",
    "\n",
    "games['name'] = games['name'].fillna('undefined')\n",
    "\n",
    "#games['year_of_release'].isnull().sum()\n",
    "# 269 пропусков , надо заменить на 0 и заодно пофиксим формат , уберем плавающую точку\n",
    "\n",
    "games['year_of_release'] = games['year_of_release'].fillna('0.0').astype('float').astype('int')\n",
    "\n",
    "#идем дальше , вижу еще пропуски в оценке игр от критиков, пользователей и пропуски в рейтинге - пофиксим все\n",
    "\n",
    "\n",
    "#games['critic_score'].isnull().sum()\n",
    "games['critic_score'] = games['critic_score'].fillna('0.0').astype('float').astype('int')\n",
    "\n",
    "#games['user_score'].unique()\n",
    "# в столбце имеются пропуски и знения tbd, tbd = to be discussed, то есть по факту оценки нет, а это значит что в данный момент она равна 0\n",
    "games['user_score'] = games['user_score'].fillna('0.0')\n",
    "\n",
    "# так пропуски убрал, но еще нужно перевести формат из объекта в int, надо заменять tbd на 0 - иначе ошибка вылезает\n",
    "# с помощью лямбды найдем значения tbd и поменяем их на 0, потом сразу поменяю тип данных\n",
    "\n",
    "games['user_score'] = games['user_score'].apply(lambda x: 0 if x == 'tbd' else x).astype('float')\n",
    "\n",
    "#games.head(15)\n",
    "\n",
    "# заметил, что оценки пользователей и оценки критиков находятся в разных системах координат, надо провести к единому, \n",
    "# умножу оценку пользователей на 10, можно через функцию или лямбду как делал выше , через лямбду проще код будет в одну строчку\n",
    "\n",
    "games['user_score'] = games.apply(lambda x: int(x['user_score'] * 10), axis = 1)\n",
    "\n",
    "#так теперь последний столбик остался rating , глянем что в нем\n",
    "\n",
    "#games['rating'].unique()\n",
    "#games['rating'].isnull().sum()\n",
    "# вау а в нем 6766 пропусков, это 2/3 всеъ данных и вообще данных по рэйтингу меньше чем во всей таблице, \n",
    "# значит там где пропуск данных нужно заменить на что то вроде \"no rating\", что бы в анализе использовать\n",
    "\n",
    "games['rating'] = games['rating'].fillna('No rating')\n",
    "\n",
    "#games['rating'].unique()\n",
    "#games.info()\n",
    "\n",
    "games['total_sales'] = games['na_sales'] + games['eu_sales'] + games['jp_sales'] + games['other_sales']\n",
    "\n",
    "games.head()\n",
    "\n",
    "#games['user_score'].unique()"
   ]
  },
  {
   "cell_type": "markdown",
   "metadata": {},
   "source": [
    "<font color='blue'> Предобработка сделана хорошо. Только надо понимать, что заполнить года выпуска 0 = удалить, т.к. весь дальнейший анализ ведется в разрезе годов релиза. </font>\n",
    "\n",
    "<font color='blue'> Целевой паарметр рассчитан верно - можно переходить к анализу. </font>"
   ]
  },
  {
   "cell_type": "markdown",
   "metadata": {},
   "source": [
    "вроде с предобработкой все законченно , перехожу к шагу 3"
   ]
  },
  {
   "cell_type": "markdown",
   "metadata": {},
   "source": [
    "# Шаг 3. Проведите исследовательский анализ данных "
   ]
  },
  {
   "cell_type": "markdown",
   "metadata": {},
   "source": [
    "Построю гистаграмму выпуска игр по годам "
   ]
  },
  {
   "cell_type": "code",
   "execution_count": 8,
   "metadata": {},
   "outputs": [
    {
     "data": {
      "text/plain": [
       "Text(0, 0.5, 'Количество')"
      ]
     },
     "execution_count": 8,
     "metadata": {},
     "output_type": "execute_result"
    },
    {
     "data": {
      "image/png": "[encoded data removed]",
      "text/plain": [
       "<Figure size 432x288 with 1 Axes>"
      ]
     },
     "metadata": {
      "needs_background": "light"
     },
     "output_type": "display_data"
    }
   ],
   "source": [
    "#games['year_of_release'].unique()\n",
    "#games.[games['year_of_release'] == 0]['year_of_release'].count()\n",
    "games[games['year_of_release'] != 0]['year_of_release'].hist(bins = 30, alpha=0.5)\n",
    "plt.title('Игры',fontsize=10)\n",
    "plt.xlabel(\"Года\", fontsize=10)\n",
    "plt.ylabel(\"Количество\",fontsize=10)"
   ]
  },
  {
   "cell_type": "markdown",
   "metadata": {},
   "source": [
    "<font color='blue'> Хорошо, все верно. </font>"
   ]
  },
  {
   "cell_type": "code",
   "execution_count": 9,
   "metadata": {},
   "outputs": [
    {
     "data": {
      "text/plain": [
       "Text(0, 0.5, 'Деньги,$ млн')"
      ]
     },
     "execution_count": 9,
     "metadata": {},
     "output_type": "execute_result"
    },
    {
     "data": {
      "image/png": "[encoded data removed]",
      "text/plain": [
       "<Figure size 1152x360 with 1 Axes>"
      ]
     },
     "metadata": {
      "needs_background": "light"
     },
     "output_type": "display_data"
    }
   ],
   "source": [
    "(games\n",
    "    .pivot_table(index='platform', values='total_sales', aggfunc='sum')\n",
    "    .sort_values(by='total_sales', ascending = False)\n",
    "    .plot(grid=True,kind='bar', figsize=(16,5))\n",
    ")\n",
    "plt.title('Продажи игр',fontsize=10)\n",
    "plt.xlabel(\"Платформы\", fontsize=10)\n",
    "plt.ylabel(\"Деньги,$ млн\",fontsize=10)"
   ]
  },
  {
   "cell_type": "markdown",
   "metadata": {},
   "source": [
    "<font color='blue'> Лидеры продаж определены правильно. </font>"
   ]
  },
  {
   "cell_type": "code",
   "execution_count": 10,
   "metadata": {},
   "outputs": [
    {
     "data": {
      "text/plain": [
       "Text(0.5, 0.98, 'Распределение платформ по годам')"
      ]
     },
     "execution_count": 10,
     "metadata": {},
     "output_type": "execute_result"
    },
    {
     "data": {
      "image/png": "[encoded data removed]",
      "text/plain": [
       "<Figure size 360x360 with 1 Axes>"
      ]
     },
     "metadata": {
      "needs_background": "light"
     },
     "output_type": "display_data"
    }
   ],
   "source": [
    "#games.info() \n",
    "games_non_zero_years = games.query('year_of_release !=0')\n",
    "g = sns.relplot(x=\"year_of_release\", y=\"platform\", data=games_non_zero_years)\n",
    "g.fig.suptitle(\"Распределение платформ по годам\")\n",
    "#sns.regplot(x=\"year_of_release\", y=\"platform\", data='years_of_release');"
   ]
  },
  {
   "cell_type": "markdown",
   "metadata": {},
   "source": [
    "<font color='blue'> Ок, и здесь все наглядно. </font>"
   ]
  },
  {
   "cell_type": "markdown",
   "metadata": {},
   "source": [
    "Cначала 90-х годов пошел резкий рост выпуска игр, к 2010 году он достиг своего апогея и началось снижение, хотя в 2015 появился новый пик (если взять короткий период 2010-2015). \n",
    "Какие мысли:\n",
    "1. В 90-е пошел техно бум, пошел спрос на видео игры разных форматов и прозводители ударились в расширенение линейки платформ\n",
    "помимо классических консолей, появились \"ручные\" приставки итд. Как раз где-то к 2010 году (когда пошли массово смартфоны) бум на производство разных консолей ушел на нет  => не нужно производить столько множеств игр. Думаю в этом причина. В любом случае , как мне кажется, нам для анализа нужны данные последних лет :). Потому что это текущие реали рынка, и конкуренции прежде всего с мобильными играми.  \n",
    "\n",
    "2. Как показывает срез по платформам, нам для анализа необходимо взять максимум 5 лет, но я считаю, что лучше взять 2-3 года м. На данном рынке за такое время происходит большие изменения в техническом плане, то есть игры становятся все лучше прорисованы. Это параметр как минимум один, сюда можно отнести и улучшение физики игры итд. То есть с каждым годом игры улучшаются и становятся все ближе к реальной жизни. Что касается срока жизни платформы, то зависи от эпохи. Совсем неудачные проекты закрывались спустя 1-2 года, в среднем жили 5-10 лет. Но опять же это связано с тем, что в 90-е года шло молнейносное улучшение технического потенциала, сейчас такой бум невозможен просто потому, что на текущим этапе развития уже не осталось настолько очевидных решений для большого скачка в видео играх, скорее происходит более точечный тюнинг визуала и физики \n",
    "В общем волевым решением беру актуальный период с 2014 года, то есть данные за 3 года ( 2014,2015,2016) "
   ]
  },
  {
   "cell_type": "markdown",
   "metadata": {},
   "source": [
    "<font color='blue'> Актуальный период определен верно. </font>"
   ]
  },
  {
   "cell_type": "code",
   "execution_count": 11,
   "metadata": {},
   "outputs": [
    {
     "data": {
      "text/plain": [
       "Text(0, 0.5, 'Деньги,$ млн')"
      ]
     },
     "execution_count": 11,
     "metadata": {},
     "output_type": "execute_result"
    },
    {
     "data": {
      "image/png": "[encoded data removed]",
      "text/plain": [
       "<Figure size 1152x360 with 1 Axes>"
      ]
     },
     "metadata": {
      "needs_background": "light"
     },
     "output_type": "display_data"
    }
   ],
   "source": [
    "games_actual = games.query('year_of_release >= 2014')\n",
    "#games_actual.info()\n",
    "#неплохо я срезал данных, теперь 1108 строк в df\n",
    "\n",
    "(games_actual\n",
    "    .pivot_table(index='platform', values='total_sales', aggfunc='sum')\n",
    "    .sort_values(by='total_sales', ascending = False)\n",
    "    .plot(grid=True,kind='bar', figsize=(16,5))\n",
    ")\n",
    "plt.title('Продажи игр',fontsize=10)\n",
    "plt.xlabel(\"Платформы\", fontsize=10)\n",
    "plt.ylabel(\"Деньги,$ млн\",fontsize=10)\n"
   ]
  },
  {
   "cell_type": "markdown",
   "metadata": {},
   "source": [
    "<font color='blue'> Актуальные платформы приведены правильно. </font>"
   ]
  },
  {
   "cell_type": "markdown",
   "metadata": {},
   "source": [
    "Для было и раньше понятно, что PS4 и XboxOne это топ который мы и будем анализировать, проверю топ 3 отдельно на динамику продаж по годам"
   ]
  },
  {
   "cell_type": "code",
   "execution_count": 12,
   "metadata": {},
   "outputs": [
    {
     "data": {
      "text/plain": [
       "Text(0, 0.5, 'Деньги,$ млн')"
      ]
     },
     "execution_count": 12,
     "metadata": {},
     "output_type": "execute_result"
    },
    {
     "data": {
      "image/png": "[encoded data removed]",
      "text/plain": [
       "<Figure size 360x144 with 1 Axes>"
      ]
     },
     "metadata": {
      "needs_background": "light"
     },
     "output_type": "display_data"
    },
    {
     "data": {
      "image/png": "[encoded data removed]",
      "text/plain": [
       "<Figure size 360x144 with 1 Axes>"
      ]
     },
     "metadata": {
      "needs_background": "light"
     },
     "output_type": "display_data"
    },
    {
     "data": {
      "image/png": "[encoded data removed]",
      "text/plain": [
       "<Figure size 360x144 with 1 Axes>"
      ]
     },
     "metadata": {
      "needs_background": "light"
     },
     "output_type": "display_data"
    }
   ],
   "source": [
    "xbox = games_actual.query('platform == \"XOne\"')\n",
    "(xbox\n",
    "    .pivot_table(index='year_of_release', values='total_sales', aggfunc='sum')\n",
    "    .sort_values(by='year_of_release', ascending = False)\n",
    "    .plot(grid=True,kind='bar', figsize=(5,2))\n",
    ")\n",
    "plt.title('Продажи игр XboxOne',fontsize=10)\n",
    "plt.xlabel(\"Платформы\", fontsize=10)\n",
    "plt.ylabel(\"Деньги,$ млн\",fontsize=10)\n",
    "\n",
    "ps4 = games_actual.query('platform == \"PS4\"')\n",
    "(xbox\n",
    "    .pivot_table(index='year_of_release', values='total_sales', aggfunc='sum')\n",
    "    .sort_values(by='year_of_release', ascending = False)\n",
    "    .plot(grid=True,kind='bar', figsize=(5,2))\n",
    ")\n",
    "\n",
    "plt.title('Продажи игр PS4',fontsize=10)\n",
    "plt.xlabel(\"Платформы\", fontsize=10)\n",
    "plt.ylabel(\"Деньги,$ млн\",fontsize=10)\n",
    "\n",
    "ds = games_actual.query('platform == \"3DS\"')\n",
    "(xbox\n",
    "    .pivot_table(index='year_of_release', values='total_sales', aggfunc='sum')\n",
    "    .sort_values(by='year_of_release', ascending = False)\n",
    "    .plot(grid=True,kind='bar', figsize=(5,2))\n",
    ")\n",
    "\n",
    "plt.title('Продажи игр 3DS',fontsize=10)\n",
    "plt.xlabel(\"Платформы\", fontsize=10)\n",
    "plt.ylabel(\"Деньги,$ млн\",fontsize=10)"
   ]
  },
  {
   "cell_type": "markdown",
   "metadata": {},
   "source": [
    "В общем ничего удивительного нет, продажи растут - это топ 3 игровых платформ сейчас в мире (2016 видимо не полная дата за год в датафрейме)"
   ]
  },
  {
   "cell_type": "code",
   "execution_count": 13,
   "metadata": {},
   "outputs": [],
   "source": [
    "games_actual_platform = games_actual.query('platform ==\"XOne\" or platform ==\"PS4\" or platform ==\"3DS\"')\n",
    "\n",
    "#games_actual_platform.info()\n",
    "# у нас получается 816 строк, то есть после нашего среза по выходу игры, я убрал еще лишние платформы\n",
    "# выбор свой сделал правильно еще потому, что на эти платформы пришлось 73% всего датафрейма"
   ]
  },
  {
   "cell_type": "code",
   "execution_count": 14,
   "metadata": {},
   "outputs": [],
   "source": [
    "#xbox.describe()\n",
    "#xbox.sort_values(by='total_sales',ascending = False)\n",
    "#ps4.describe()"
   ]
  },
  {
   "cell_type": "code",
   "execution_count": 15,
   "metadata": {},
   "outputs": [
    {
     "name": "stdout",
     "output_type": "stream",
     "text": [
      "<class 'pandas.core.frame.DataFrame'>\n",
      "Int64Index: 816 entries, 31 to 16677\n",
      "Data columns (total 12 columns):\n",
      "name               816 non-null object\n",
      "platform           816 non-null object\n",
      "year_of_release    816 non-null int64\n",
      "genre              816 non-null object\n",
      "na_sales           816 non-null float64\n",
      "eu_sales           816 non-null float64\n",
      "jp_sales           816 non-null float64\n",
      "other_sales        816 non-null float64\n",
      "critic_score       816 non-null int64\n",
      "user_score         816 non-null int64\n",
      "rating             816 non-null object\n",
      "total_sales        816 non-null float64\n",
      "dtypes: float64(5), int64(3), object(4)\n",
      "memory usage: 82.9+ KB\n"
     ]
    }
   ],
   "source": [
    "games_actual_platform.info()"
   ]
  },
  {
   "cell_type": "code",
   "execution_count": 16,
   "metadata": {},
   "outputs": [
    {
     "data": {
      "text/plain": [
       "(0, 2)"
      ]
     },
     "execution_count": 16,
     "metadata": {},
     "output_type": "execute_result"
    },
    {
     "data": {
      "image/png": "[encoded data removed]",
      "text/plain": [
       "<Figure size 432x288 with 1 Axes>"
      ]
     },
     "metadata": {
      "needs_background": "light"
     },
     "output_type": "display_data"
    }
   ],
   "source": [
    "sns.boxplot(y=\"platform\", x=\"total_sales\",data=games_actual_platform)\n",
    "plt.xlim(0, 2)"
   ]
  },
  {
   "cell_type": "markdown",
   "metadata": {},
   "source": [
    "Построил ящик с усами, он показал, что все продажи сильно смещенные вправо,т.е распределение. Медиана сильно отличается от среднего. Сам ящик показал, насколько близки xbox one и ps4 по всем значениям. Как вывод, дальнейший анализ можно строить на одной или двух платформах: XboxOne и PS4. \n",
    "\n",
    "<font color='blue'> Ящики с усами построены правильно. </font>"
   ]
  },
  {
   "cell_type": "markdown",
   "metadata": {},
   "source": [
    "Для следующее анализа: влияния отзывов пользователей и критиков на продажи, я возьму самую популярную платформу PS4."
   ]
  },
  {
   "cell_type": "markdown",
   "metadata": {},
   "source": [
    "Только нужно проверить на выбросы оценки пользователей и критиков "
   ]
  },
  {
   "cell_type": "code",
   "execution_count": 17,
   "metadata": {},
   "outputs": [
    {
     "data": {
      "text/plain": [
       "<matplotlib.axes._subplots.AxesSubplot at 0x7f5ceea15668>"
      ]
     },
     "execution_count": 17,
     "metadata": {},
     "output_type": "execute_result"
    },
    {
     "data": {
      "image/png": "[encoded data removed]",
      "text/plain": [
       "<Figure size 432x288 with 1 Axes>"
      ]
     },
     "metadata": {
      "needs_background": "light"
     },
     "output_type": "display_data"
    }
   ],
   "source": [
    "sns.boxplot(y=\"platform\", x=\"critic_score\",data=games_actual_platform)"
   ]
  },
  {
   "cell_type": "code",
   "execution_count": 18,
   "metadata": {},
   "outputs": [
    {
     "data": {
      "text/plain": [
       "<matplotlib.axes._subplots.AxesSubplot at 0x7f5cee99fe48>"
      ]
     },
     "execution_count": 18,
     "metadata": {},
     "output_type": "execute_result"
    },
    {
     "data": {
      "image/png": "[encoded data removed]",
      "text/plain": [
       "<Figure size 432x288 with 1 Axes>"
      ]
     },
     "metadata": {
      "needs_background": "light"
     },
     "output_type": "display_data"
    }
   ],
   "source": [
    "sns.boxplot(y=\"platform\", x=\"user_score\",data=games_actual_platform)"
   ]
  },
  {
   "cell_type": "markdown",
   "metadata": {},
   "source": [
    "<font color='blue'> Отлично, и здесь ящики тоже корректные. </font>\n",
    "\n",
    "Для анализа зависимости оценок к продажам, необходимо исключить выбросы, в нашем случае это видимо небольшое кол-во провальных игр.Берем в анализ оценки от 45  от критиков и от 37 от пользователей и посмотрим зависимости"
   ]
  },
  {
   "cell_type": "code",
   "execution_count": 19,
   "metadata": {},
   "outputs": [
    {
     "data": {
      "image/png": "[encoded data removed]",
      "text/plain": [
       "<Figure size 540x540 with 12 Axes>"
      ]
     },
     "metadata": {
      "needs_background": "light"
     },
     "output_type": "display_data"
    }
   ],
   "source": [
    "# небольшая поправочка, настало время убрать 0 из оценок и продаж\n",
    "\n",
    "ps4 = ps4.query('user_score != 0 & critic_score != 0 & total_sales != 0 ')\n",
    "\n",
    "sns.pairplot(ps4[['total_sales', 'critic_score', \n",
    "                 'user_score']]);"
   ]
  },
  {
   "cell_type": "code",
   "execution_count": 40,
   "metadata": {},
   "outputs": [
    {
     "data": {
      "image/png": "[encoded data removed]",
      "text/plain": [
       "<Figure size 432x432 with 3 Axes>"
      ]
     },
     "metadata": {
      "needs_background": "light"
     },
     "output_type": "display_data"
    },
    {
     "data": {
      "image/png": "[encoded data removed]",
      "text/plain": [
       "<Figure size 432x432 with 3 Axes>"
      ]
     },
     "metadata": {
      "needs_background": "light"
     },
     "output_type": "display_data"
    }
   ],
   "source": [
    "sns.jointplot(x='critic_score', y='total_sales', \n",
    "              data=ps4, kind='scatter');\n",
    "\n",
    "sns.jointplot(x='user_score', y='total_sales', \n",
    "              data=ps4, kind='scatter');"
   ]
  },
  {
   "cell_type": "markdown",
   "metadata": {},
   "source": [
    "Я использовал библиотеку seaborn, что бы нагляднее посмотреть зависимость продаж от оценок пользователей и критиков. Теперь посмотрю \"табличную\" корреляцию "
   ]
  },
  {
   "cell_type": "code",
   "execution_count": 20,
   "metadata": {},
   "outputs": [
    {
     "data": {
      "text/html": [
       "<style  type=\"text/css\" >\n",
       "    #T_26f9140c_3dd2_11ea_aada_02420a006133row0_col0 {\n",
       "            background-color:  #b40426;\n",
       "            color:  #f1f1f1;\n",
       "        }    #T_26f9140c_3dd2_11ea_aada_02420a006133row0_col1 {\n",
       "            background-color:  #3b4cc0;\n",
       "            color:  #f1f1f1;\n",
       "        }    #T_26f9140c_3dd2_11ea_aada_02420a006133row0_col2 {\n",
       "            background-color:  #3b4cc0;\n",
       "            color:  #f1f1f1;\n",
       "        }    #T_26f9140c_3dd2_11ea_aada_02420a006133row0_col3 {\n",
       "            background-color:  #3b4cc0;\n",
       "            color:  #f1f1f1;\n",
       "        }    #T_26f9140c_3dd2_11ea_aada_02420a006133row0_col4 {\n",
       "            background-color:  #3b4cc0;\n",
       "            color:  #f1f1f1;\n",
       "        }    #T_26f9140c_3dd2_11ea_aada_02420a006133row0_col5 {\n",
       "            background-color:  #3b4cc0;\n",
       "            color:  #f1f1f1;\n",
       "        }    #T_26f9140c_3dd2_11ea_aada_02420a006133row0_col6 {\n",
       "            background-color:  #5673e0;\n",
       "            color:  #000000;\n",
       "        }    #T_26f9140c_3dd2_11ea_aada_02420a006133row0_col7 {\n",
       "            background-color:  #3b4cc0;\n",
       "            color:  #f1f1f1;\n",
       "        }    #T_26f9140c_3dd2_11ea_aada_02420a006133row1_col0 {\n",
       "            background-color:  #3b4cc0;\n",
       "            color:  #f1f1f1;\n",
       "        }    #T_26f9140c_3dd2_11ea_aada_02420a006133row1_col1 {\n",
       "            background-color:  #b40426;\n",
       "            color:  #f1f1f1;\n",
       "        }    #T_26f9140c_3dd2_11ea_aada_02420a006133row1_col2 {\n",
       "            background-color:  #f39778;\n",
       "            color:  #000000;\n",
       "        }    #T_26f9140c_3dd2_11ea_aada_02420a006133row1_col3 {\n",
       "            background-color:  #f2cab5;\n",
       "            color:  #000000;\n",
       "        }    #T_26f9140c_3dd2_11ea_aada_02420a006133row1_col4 {\n",
       "            background-color:  #cc403a;\n",
       "            color:  #f1f1f1;\n",
       "        }    #T_26f9140c_3dd2_11ea_aada_02420a006133row1_col5 {\n",
       "            background-color:  #cbd8ee;\n",
       "            color:  #000000;\n",
       "        }    #T_26f9140c_3dd2_11ea_aada_02420a006133row1_col6 {\n",
       "            background-color:  #485fd1;\n",
       "            color:  #f1f1f1;\n",
       "        }    #T_26f9140c_3dd2_11ea_aada_02420a006133row1_col7 {\n",
       "            background-color:  #d24b40;\n",
       "            color:  #f1f1f1;\n",
       "        }    #T_26f9140c_3dd2_11ea_aada_02420a006133row2_col0 {\n",
       "            background-color:  #455cce;\n",
       "            color:  #f1f1f1;\n",
       "        }    #T_26f9140c_3dd2_11ea_aada_02420a006133row2_col1 {\n",
       "            background-color:  #f29274;\n",
       "            color:  #000000;\n",
       "        }    #T_26f9140c_3dd2_11ea_aada_02420a006133row2_col2 {\n",
       "            background-color:  #b40426;\n",
       "            color:  #f1f1f1;\n",
       "        }    #T_26f9140c_3dd2_11ea_aada_02420a006133row2_col3 {\n",
       "            background-color:  #efcfbf;\n",
       "            color:  #000000;\n",
       "        }    #T_26f9140c_3dd2_11ea_aada_02420a006133row2_col4 {\n",
       "            background-color:  #c73635;\n",
       "            color:  #f1f1f1;\n",
       "        }    #T_26f9140c_3dd2_11ea_aada_02420a006133row2_col5 {\n",
       "            background-color:  #b5cdfa;\n",
       "            color:  #000000;\n",
       "        }    #T_26f9140c_3dd2_11ea_aada_02420a006133row2_col6 {\n",
       "            background-color:  #3b4cc0;\n",
       "            color:  #f1f1f1;\n",
       "        }    #T_26f9140c_3dd2_11ea_aada_02420a006133row2_col7 {\n",
       "            background-color:  #c32e31;\n",
       "            color:  #f1f1f1;\n",
       "        }    #T_26f9140c_3dd2_11ea_aada_02420a006133row3_col0 {\n",
       "            background-color:  #5d7ce6;\n",
       "            color:  #000000;\n",
       "        }    #T_26f9140c_3dd2_11ea_aada_02420a006133row3_col1 {\n",
       "            background-color:  #f6bea4;\n",
       "            color:  #000000;\n",
       "        }    #T_26f9140c_3dd2_11ea_aada_02420a006133row3_col2 {\n",
       "            background-color:  #f3c8b2;\n",
       "            color:  #000000;\n",
       "        }    #T_26f9140c_3dd2_11ea_aada_02420a006133row3_col3 {\n",
       "            background-color:  #b40426;\n",
       "            color:  #f1f1f1;\n",
       "        }    #T_26f9140c_3dd2_11ea_aada_02420a006133row3_col4 {\n",
       "            background-color:  #f7b79b;\n",
       "            color:  #000000;\n",
       "        }    #T_26f9140c_3dd2_11ea_aada_02420a006133row3_col5 {\n",
       "            background-color:  #c1d4f4;\n",
       "            color:  #000000;\n",
       "        }    #T_26f9140c_3dd2_11ea_aada_02420a006133row3_col6 {\n",
       "            background-color:  #86a9fc;\n",
       "            color:  #000000;\n",
       "        }    #T_26f9140c_3dd2_11ea_aada_02420a006133row3_col7 {\n",
       "            background-color:  #f7b194;\n",
       "            color:  #000000;\n",
       "        }    #T_26f9140c_3dd2_11ea_aada_02420a006133row4_col0 {\n",
       "            background-color:  #3c4ec2;\n",
       "            color:  #f1f1f1;\n",
       "        }    #T_26f9140c_3dd2_11ea_aada_02420a006133row4_col1 {\n",
       "            background-color:  #cc403a;\n",
       "            color:  #f1f1f1;\n",
       "        }    #T_26f9140c_3dd2_11ea_aada_02420a006133row4_col2 {\n",
       "            background-color:  #c83836;\n",
       "            color:  #f1f1f1;\n",
       "        }    #T_26f9140c_3dd2_11ea_aada_02420a006133row4_col3 {\n",
       "            background-color:  #f5c2aa;\n",
       "            color:  #000000;\n",
       "        }    #T_26f9140c_3dd2_11ea_aada_02420a006133row4_col4 {\n",
       "            background-color:  #b40426;\n",
       "            color:  #f1f1f1;\n",
       "        }    #T_26f9140c_3dd2_11ea_aada_02420a006133row4_col5 {\n",
       "            background-color:  #c9d7f0;\n",
       "            color:  #000000;\n",
       "        }    #T_26f9140c_3dd2_11ea_aada_02420a006133row4_col6 {\n",
       "            background-color:  #3f53c6;\n",
       "            color:  #f1f1f1;\n",
       "        }    #T_26f9140c_3dd2_11ea_aada_02420a006133row4_col7 {\n",
       "            background-color:  #b40426;\n",
       "            color:  #f1f1f1;\n",
       "        }    #T_26f9140c_3dd2_11ea_aada_02420a006133row5_col0 {\n",
       "            background-color:  #6b8df0;\n",
       "            color:  #000000;\n",
       "        }    #T_26f9140c_3dd2_11ea_aada_02420a006133row5_col1 {\n",
       "            background-color:  #e2dad5;\n",
       "            color:  #000000;\n",
       "        }    #T_26f9140c_3dd2_11ea_aada_02420a006133row5_col2 {\n",
       "            background-color:  #cdd9ec;\n",
       "            color:  #000000;\n",
       "        }    #T_26f9140c_3dd2_11ea_aada_02420a006133row5_col3 {\n",
       "            background-color:  #cad8ef;\n",
       "            color:  #000000;\n",
       "        }    #T_26f9140c_3dd2_11ea_aada_02420a006133row5_col4 {\n",
       "            background-color:  #e0dbd8;\n",
       "            color:  #000000;\n",
       "        }    #T_26f9140c_3dd2_11ea_aada_02420a006133row5_col5 {\n",
       "            background-color:  #b40426;\n",
       "            color:  #f1f1f1;\n",
       "        }    #T_26f9140c_3dd2_11ea_aada_02420a006133row5_col6 {\n",
       "            background-color:  #eed0c0;\n",
       "            color:  #000000;\n",
       "        }    #T_26f9140c_3dd2_11ea_aada_02420a006133row5_col7 {\n",
       "            background-color:  #dfdbd9;\n",
       "            color:  #000000;\n",
       "        }    #T_26f9140c_3dd2_11ea_aada_02420a006133row6_col0 {\n",
       "            background-color:  #80a3fa;\n",
       "            color:  #000000;\n",
       "        }    #T_26f9140c_3dd2_11ea_aada_02420a006133row6_col1 {\n",
       "            background-color:  #7295f4;\n",
       "            color:  #000000;\n",
       "        }    #T_26f9140c_3dd2_11ea_aada_02420a006133row6_col2 {\n",
       "            background-color:  #5977e3;\n",
       "            color:  #000000;\n",
       "        }    #T_26f9140c_3dd2_11ea_aada_02420a006133row6_col3 {\n",
       "            background-color:  #8db0fe;\n",
       "            color:  #000000;\n",
       "        }    #T_26f9140c_3dd2_11ea_aada_02420a006133row6_col4 {\n",
       "            background-color:  #6788ee;\n",
       "            color:  #000000;\n",
       "        }    #T_26f9140c_3dd2_11ea_aada_02420a006133row6_col5 {\n",
       "            background-color:  #ecd3c5;\n",
       "            color:  #000000;\n",
       "        }    #T_26f9140c_3dd2_11ea_aada_02420a006133row6_col6 {\n",
       "            background-color:  #b40426;\n",
       "            color:  #f1f1f1;\n",
       "        }    #T_26f9140c_3dd2_11ea_aada_02420a006133row6_col7 {\n",
       "            background-color:  #6788ee;\n",
       "            color:  #000000;\n",
       "        }    #T_26f9140c_3dd2_11ea_aada_02420a006133row7_col0 {\n",
       "            background-color:  #3e51c5;\n",
       "            color:  #f1f1f1;\n",
       "        }    #T_26f9140c_3dd2_11ea_aada_02420a006133row7_col1 {\n",
       "            background-color:  #d24b40;\n",
       "            color:  #f1f1f1;\n",
       "        }    #T_26f9140c_3dd2_11ea_aada_02420a006133row7_col2 {\n",
       "            background-color:  #c32e31;\n",
       "            color:  #f1f1f1;\n",
       "        }    #T_26f9140c_3dd2_11ea_aada_02420a006133row7_col3 {\n",
       "            background-color:  #f6bda2;\n",
       "            color:  #000000;\n",
       "        }    #T_26f9140c_3dd2_11ea_aada_02420a006133row7_col4 {\n",
       "            background-color:  #b40426;\n",
       "            color:  #f1f1f1;\n",
       "        }    #T_26f9140c_3dd2_11ea_aada_02420a006133row7_col5 {\n",
       "            background-color:  #c9d7f0;\n",
       "            color:  #000000;\n",
       "        }    #T_26f9140c_3dd2_11ea_aada_02420a006133row7_col6 {\n",
       "            background-color:  #4055c8;\n",
       "            color:  #f1f1f1;\n",
       "        }    #T_26f9140c_3dd2_11ea_aada_02420a006133row7_col7 {\n",
       "            background-color:  #b40426;\n",
       "            color:  #f1f1f1;\n",
       "        }</style><table id=\"T_26f9140c_3dd2_11ea_aada_02420a006133\" ><thead>    <tr>        <th class=\"blank level0\" ></th>        <th class=\"col_heading level0 col0\" >year_of_release</th>        <th class=\"col_heading level0 col1\" >na_sales</th>        <th class=\"col_heading level0 col2\" >eu_sales</th>        <th class=\"col_heading level0 col3\" >jp_sales</th>        <th class=\"col_heading level0 col4\" >other_sales</th>        <th class=\"col_heading level0 col5\" >critic_score</th>        <th class=\"col_heading level0 col6\" >user_score</th>        <th class=\"col_heading level0 col7\" >total_sales</th>    </tr></thead><tbody>\n",
       "                <tr>\n",
       "                        <th id=\"T_26f9140c_3dd2_11ea_aada_02420a006133level0_row0\" class=\"row_heading level0 row0\" >year_of_release</th>\n",
       "                        <td id=\"T_26f9140c_3dd2_11ea_aada_02420a006133row0_col0\" class=\"data row0 col0\" >1</td>\n",
       "                        <td id=\"T_26f9140c_3dd2_11ea_aada_02420a006133row0_col1\" class=\"data row0 col1\" >-0.230985</td>\n",
       "                        <td id=\"T_26f9140c_3dd2_11ea_aada_02420a006133row0_col2\" class=\"data row0 col2\" >-0.183494</td>\n",
       "                        <td id=\"T_26f9140c_3dd2_11ea_aada_02420a006133row0_col3\" class=\"data row0 col3\" >-0.0931716</td>\n",
       "                        <td id=\"T_26f9140c_3dd2_11ea_aada_02420a006133row0_col4\" class=\"data row0 col4\" >-0.221852</td>\n",
       "                        <td id=\"T_26f9140c_3dd2_11ea_aada_02420a006133row0_col5\" class=\"data row0 col5\" >-0.0434165</td>\n",
       "                        <td id=\"T_26f9140c_3dd2_11ea_aada_02420a006133row0_col6\" class=\"data row0 col6\" >0.0289382</td>\n",
       "                        <td id=\"T_26f9140c_3dd2_11ea_aada_02420a006133row0_col7\" class=\"data row0 col7\" >-0.216492</td>\n",
       "            </tr>\n",
       "            <tr>\n",
       "                        <th id=\"T_26f9140c_3dd2_11ea_aada_02420a006133level0_row1\" class=\"row_heading level0 row1\" >na_sales</th>\n",
       "                        <td id=\"T_26f9140c_3dd2_11ea_aada_02420a006133row1_col0\" class=\"data row1 col0\" >-0.230985</td>\n",
       "                        <td id=\"T_26f9140c_3dd2_11ea_aada_02420a006133row1_col1\" class=\"data row1 col1\" >1</td>\n",
       "                        <td id=\"T_26f9140c_3dd2_11ea_aada_02420a006133row1_col2\" class=\"data row1 col2\" >0.712972</td>\n",
       "                        <td id=\"T_26f9140c_3dd2_11ea_aada_02420a006133row1_col3\" class=\"data row1 col3\" >0.56698</td>\n",
       "                        <td id=\"T_26f9140c_3dd2_11ea_aada_02420a006133row1_col4\" class=\"data row1 col4\" >0.91573</td>\n",
       "                        <td id=\"T_26f9140c_3dd2_11ea_aada_02420a006133row1_col5\" class=\"data row1 col5\" >0.410773</td>\n",
       "                        <td id=\"T_26f9140c_3dd2_11ea_aada_02420a006133row1_col6\" class=\"data row1 col6\" >-0.0188468</td>\n",
       "                        <td id=\"T_26f9140c_3dd2_11ea_aada_02420a006133row1_col7\" class=\"data row1 col7\" >0.892578</td>\n",
       "            </tr>\n",
       "            <tr>\n",
       "                        <th id=\"T_26f9140c_3dd2_11ea_aada_02420a006133level0_row2\" class=\"row_heading level0 row2\" >eu_sales</th>\n",
       "                        <td id=\"T_26f9140c_3dd2_11ea_aada_02420a006133row2_col0\" class=\"data row2 col0\" >-0.183494</td>\n",
       "                        <td id=\"T_26f9140c_3dd2_11ea_aada_02420a006133row2_col1\" class=\"data row2 col1\" >0.712972</td>\n",
       "                        <td id=\"T_26f9140c_3dd2_11ea_aada_02420a006133row2_col2\" class=\"data row2 col2\" >1</td>\n",
       "                        <td id=\"T_26f9140c_3dd2_11ea_aada_02420a006133row2_col3\" class=\"data row2 col3\" >0.541119</td>\n",
       "                        <td id=\"T_26f9140c_3dd2_11ea_aada_02420a006133row2_col4\" class=\"data row2 col4\" >0.934511</td>\n",
       "                        <td id=\"T_26f9140c_3dd2_11ea_aada_02420a006133row2_col5\" class=\"data row2 col5\" >0.339526</td>\n",
       "                        <td id=\"T_26f9140c_3dd2_11ea_aada_02420a006133row2_col6\" class=\"data row2 col6\" >-0.0673769</td>\n",
       "                        <td id=\"T_26f9140c_3dd2_11ea_aada_02420a006133row2_col7\" class=\"data row2 col7\" >0.951783</td>\n",
       "            </tr>\n",
       "            <tr>\n",
       "                        <th id=\"T_26f9140c_3dd2_11ea_aada_02420a006133level0_row3\" class=\"row_heading level0 row3\" >jp_sales</th>\n",
       "                        <td id=\"T_26f9140c_3dd2_11ea_aada_02420a006133row3_col0\" class=\"data row3 col0\" >-0.0931716</td>\n",
       "                        <td id=\"T_26f9140c_3dd2_11ea_aada_02420a006133row3_col1\" class=\"data row3 col1\" >0.56698</td>\n",
       "                        <td id=\"T_26f9140c_3dd2_11ea_aada_02420a006133row3_col2\" class=\"data row3 col2\" >0.541119</td>\n",
       "                        <td id=\"T_26f9140c_3dd2_11ea_aada_02420a006133row3_col3\" class=\"data row3 col3\" >1</td>\n",
       "                        <td id=\"T_26f9140c_3dd2_11ea_aada_02420a006133row3_col4\" class=\"data row3 col4\" >0.598046</td>\n",
       "                        <td id=\"T_26f9140c_3dd2_11ea_aada_02420a006133row3_col5\" class=\"data row3 col5\" >0.378852</td>\n",
       "                        <td id=\"T_26f9140c_3dd2_11ea_aada_02420a006133row3_col6\" class=\"data row3 col6\" >0.182245</td>\n",
       "                        <td id=\"T_26f9140c_3dd2_11ea_aada_02420a006133row3_col7\" class=\"data row3 col7\" >0.618891</td>\n",
       "            </tr>\n",
       "            <tr>\n",
       "                        <th id=\"T_26f9140c_3dd2_11ea_aada_02420a006133level0_row4\" class=\"row_heading level0 row4\" >other_sales</th>\n",
       "                        <td id=\"T_26f9140c_3dd2_11ea_aada_02420a006133row4_col0\" class=\"data row4 col0\" >-0.221852</td>\n",
       "                        <td id=\"T_26f9140c_3dd2_11ea_aada_02420a006133row4_col1\" class=\"data row4 col1\" >0.91573</td>\n",
       "                        <td id=\"T_26f9140c_3dd2_11ea_aada_02420a006133row4_col2\" class=\"data row4 col2\" >0.934511</td>\n",
       "                        <td id=\"T_26f9140c_3dd2_11ea_aada_02420a006133row4_col3\" class=\"data row4 col3\" >0.598046</td>\n",
       "                        <td id=\"T_26f9140c_3dd2_11ea_aada_02420a006133row4_col4\" class=\"data row4 col4\" >1</td>\n",
       "                        <td id=\"T_26f9140c_3dd2_11ea_aada_02420a006133row4_col5\" class=\"data row4 col5\" >0.403824</td>\n",
       "                        <td id=\"T_26f9140c_3dd2_11ea_aada_02420a006133row4_col6\" class=\"data row4 col6\" >-0.0472671</td>\n",
       "                        <td id=\"T_26f9140c_3dd2_11ea_aada_02420a006133row4_col7\" class=\"data row4 col7\" >0.998054</td>\n",
       "            </tr>\n",
       "            <tr>\n",
       "                        <th id=\"T_26f9140c_3dd2_11ea_aada_02420a006133level0_row5\" class=\"row_heading level0 row5\" >critic_score</th>\n",
       "                        <td id=\"T_26f9140c_3dd2_11ea_aada_02420a006133row5_col0\" class=\"data row5 col0\" >-0.0434165</td>\n",
       "                        <td id=\"T_26f9140c_3dd2_11ea_aada_02420a006133row5_col1\" class=\"data row5 col1\" >0.410773</td>\n",
       "                        <td id=\"T_26f9140c_3dd2_11ea_aada_02420a006133row5_col2\" class=\"data row5 col2\" >0.339526</td>\n",
       "                        <td id=\"T_26f9140c_3dd2_11ea_aada_02420a006133row5_col3\" class=\"data row5 col3\" >0.378852</td>\n",
       "                        <td id=\"T_26f9140c_3dd2_11ea_aada_02420a006133row5_col4\" class=\"data row5 col4\" >0.403824</td>\n",
       "                        <td id=\"T_26f9140c_3dd2_11ea_aada_02420a006133row5_col5\" class=\"data row5 col5\" >1</td>\n",
       "                        <td id=\"T_26f9140c_3dd2_11ea_aada_02420a006133row5_col6\" class=\"data row5 col6\" >0.546434</td>\n",
       "                        <td id=\"T_26f9140c_3dd2_11ea_aada_02420a006133row5_col7\" class=\"data row5 col7\" >0.401903</td>\n",
       "            </tr>\n",
       "            <tr>\n",
       "                        <th id=\"T_26f9140c_3dd2_11ea_aada_02420a006133level0_row6\" class=\"row_heading level0 row6\" >user_score</th>\n",
       "                        <td id=\"T_26f9140c_3dd2_11ea_aada_02420a006133row6_col0\" class=\"data row6 col0\" >0.0289382</td>\n",
       "                        <td id=\"T_26f9140c_3dd2_11ea_aada_02420a006133row6_col1\" class=\"data row6 col1\" >-0.0188468</td>\n",
       "                        <td id=\"T_26f9140c_3dd2_11ea_aada_02420a006133row6_col2\" class=\"data row6 col2\" >-0.0673769</td>\n",
       "                        <td id=\"T_26f9140c_3dd2_11ea_aada_02420a006133row6_col3\" class=\"data row6 col3\" >0.182245</td>\n",
       "                        <td id=\"T_26f9140c_3dd2_11ea_aada_02420a006133row6_col4\" class=\"data row6 col4\" >-0.0472671</td>\n",
       "                        <td id=\"T_26f9140c_3dd2_11ea_aada_02420a006133row6_col5\" class=\"data row6 col5\" >0.546434</td>\n",
       "                        <td id=\"T_26f9140c_3dd2_11ea_aada_02420a006133row6_col6\" class=\"data row6 col6\" >1</td>\n",
       "                        <td id=\"T_26f9140c_3dd2_11ea_aada_02420a006133row6_col7\" class=\"data row6 col7\" >-0.0431859</td>\n",
       "            </tr>\n",
       "            <tr>\n",
       "                        <th id=\"T_26f9140c_3dd2_11ea_aada_02420a006133level0_row7\" class=\"row_heading level0 row7\" >total_sales</th>\n",
       "                        <td id=\"T_26f9140c_3dd2_11ea_aada_02420a006133row7_col0\" class=\"data row7 col0\" >-0.216492</td>\n",
       "                        <td id=\"T_26f9140c_3dd2_11ea_aada_02420a006133row7_col1\" class=\"data row7 col1\" >0.892578</td>\n",
       "                        <td id=\"T_26f9140c_3dd2_11ea_aada_02420a006133row7_col2\" class=\"data row7 col2\" >0.951783</td>\n",
       "                        <td id=\"T_26f9140c_3dd2_11ea_aada_02420a006133row7_col3\" class=\"data row7 col3\" >0.618891</td>\n",
       "                        <td id=\"T_26f9140c_3dd2_11ea_aada_02420a006133row7_col4\" class=\"data row7 col4\" >0.998054</td>\n",
       "                        <td id=\"T_26f9140c_3dd2_11ea_aada_02420a006133row7_col5\" class=\"data row7 col5\" >0.401903</td>\n",
       "                        <td id=\"T_26f9140c_3dd2_11ea_aada_02420a006133row7_col6\" class=\"data row7 col6\" >-0.0431859</td>\n",
       "                        <td id=\"T_26f9140c_3dd2_11ea_aada_02420a006133row7_col7\" class=\"data row7 col7\" >1</td>\n",
       "            </tr>\n",
       "    </tbody></table>"
      ],
      "text/plain": [
       "<pandas.io.formats.style.Styler at 0x7f5cee558198>"
      ]
     },
     "execution_count": 20,
     "metadata": {},
     "output_type": "execute_result"
    }
   ],
   "source": [
    "corr = ps4.corr()\n",
    "\n",
    "# довалю цветовую матрицу\n",
    "\n",
    "corr.style.background_gradient(cmap = 'coolwarm')"
   ]
  },
  {
   "cell_type": "markdown",
   "metadata": {},
   "source": [
    "Проведу еще подобное исследование по платформе Xbox, так как сказать проверить гипотезу \n",
    "\n",
    "Только нужно проверить на выбросы оценки пользователей и критиков "
   ]
  },
  {
   "cell_type": "code",
   "execution_count": 2,
   "metadata": {},
   "outputs": [
    {
     "ename": "NameError",
     "evalue": "name 'xbox' is not defined",
     "output_type": "error",
     "traceback": [
      "\u001b[0;31m---------------------------------------------------------------------------\u001b[0m",
      "\u001b[0;31mNameError\u001b[0m                                 Traceback (most recent call last)",
      "\u001b[0;32m<ipython-input-2-127cb7060bda>\u001b[0m in \u001b[0;36m<module>\u001b[0;34m\u001b[0m\n\u001b[0;32m----> 1\u001b[0;31m \u001b[0mcorr\u001b[0m \u001b[0;34m=\u001b[0m \u001b[0mxbox\u001b[0m\u001b[0;34m.\u001b[0m\u001b[0mcorr\u001b[0m\u001b[0;34m(\u001b[0m\u001b[0;34m)\u001b[0m\u001b[0;34m\u001b[0m\u001b[0;34m\u001b[0m\u001b[0m\n\u001b[0m\u001b[1;32m      2\u001b[0m \u001b[0;34m\u001b[0m\u001b[0m\n\u001b[1;32m      3\u001b[0m \u001b[0;31m# довалю цветовую матрицу\u001b[0m\u001b[0;34m\u001b[0m\u001b[0;34m\u001b[0m\u001b[0;34m\u001b[0m\u001b[0m\n\u001b[1;32m      4\u001b[0m \u001b[0;34m\u001b[0m\u001b[0m\n\u001b[1;32m      5\u001b[0m \u001b[0mcorr\u001b[0m\u001b[0;34m.\u001b[0m\u001b[0mstyle\u001b[0m\u001b[0;34m.\u001b[0m\u001b[0mbackground_gradient\u001b[0m\u001b[0;34m(\u001b[0m\u001b[0mcmap\u001b[0m \u001b[0;34m=\u001b[0m \u001b[0;34m'coolwarm'\u001b[0m\u001b[0;34m)\u001b[0m\u001b[0;34m\u001b[0m\u001b[0;34m\u001b[0m\u001b[0m\n",
      "\u001b[0;31mNameError\u001b[0m: name 'xbox' is not defined"
     ]
    }
   ],
   "source": [
    "corr = xbox.corr()\n",
    "\n",
    "# довалю цветовую матрицу\n",
    "\n",
    "corr.style.background_gradient(cmap = 'coolwarm')"
   ]
  },
  {
   "cell_type": "markdown",
   "metadata": {},
   "source": [
    "Продолжаем копать и искать еще факторы, влияющие на продажи. \n",
    "Но в копилку влияние оценок, как необходимый фактор для продаж мы себе записываем.\n",
    "\n",
    "<font color='blue'> Корреляция проанализирована правильно. </font>"
   ]
  },
  {
   "cell_type": "markdown",
   "metadata": {},
   "source": [
    "посмотрю разбивку по жанрам , определю какие самые прибыльные "
   ]
  },
  {
   "cell_type": "code",
   "execution_count": 69,
   "metadata": {},
   "outputs": [
    {
     "data": {
      "text/plain": [
       "(0, 5)"
      ]
     },
     "execution_count": 69,
     "metadata": {},
     "output_type": "execute_result"
    },
    {
     "data": {
      "image/png": "[encoded data removed]",
      "text/plain": [
       "<Figure size 432x288 with 1 Axes>"
      ]
     },
     "metadata": {
      "needs_background": "light"
     },
     "output_type": "display_data"
    }
   ],
   "source": [
    "sns.boxplot(y=\"genre\", x=\"total_sales\",data=games_actual_platform)\n",
    "plt.xlim(0, 5)"
   ]
  },
  {
   "cell_type": "markdown",
   "metadata": {},
   "source": [
    "<font color='blue'> Жанры выделены верно. </font>"
   ]
  },
  {
   "cell_type": "markdown",
   "metadata": {},
   "source": [
    "Выводы :\n",
    "\n",
    "1. Существует зависимость между оценками критиков и пользователей (0.40) неюольшая , но есть (ps4 df)\n",
    "2. Существует зависимость от оценок критиков к продажам , но она далеко не единственный фактор влияющий на продажи\n",
    "3. Пользователи более сентиментальны, это значит что характерны большие продажи игр при средних оценках ( критики такого себе не позволяют - это и понятно, они же проф. оценщики). Скорее всего пользователи покупают массово продолжения своих любимых игр, и как часто бывает, продолжение хуже первой или любой ,другой по номеру,легендарной части игры/фильма и разочерование оставляет след в оценках.\n",
    "4. Видно что большую значимость для тотальных продаж несет продажи в каждом регионе, но продажи в Японии не так сильно влият - хм интересный факт\n",
    "\n",
    "5. Посмотрел коллеряцию зависимости на данных платформы xbox, цифры немножко другие , но тренд такой же.\n",
    "Интересно, только одно, пользовательские оценки очень зависят от оценок критикиов. Пользователи xbox one, имейте свое мнение)\n",
    "\n",
    "6. Самые прибыльные жанры это шутеры, спортивные игры, гоночные,rpg и экшин. Это тоже важный фактор влияющий на тотальные продажи"
   ]
  },
  {
   "cell_type": "markdown",
   "metadata": {},
   "source": [
    "так вроде бы в шаге 3 все сделал, перехожу в шаг 4"
   ]
  },
  {
   "cell_type": "markdown",
   "metadata": {},
   "source": [
    "# Шаг 4. Составьте портрет пользователя каждого региона "
   ]
  },
  {
   "cell_type": "markdown",
   "metadata": {},
   "source": [
    "Определите для пользователя каждого региона (NA,EU,JP) "
   ]
  },
  {
   "cell_type": "markdown",
   "metadata": {},
   "source": [
    "1. Самые популярные платформы (топ 5). Опишите различия в долях "
   ]
  },
  {
   "cell_type": "markdown",
   "metadata": {},
   "source": [
    "Для того чтобы отрисовать графики, как вариант, нужно использовать функцию "
   ]
  },
  {
   "cell_type": "code",
   "execution_count": 70,
   "metadata": {},
   "outputs": [
    {
     "data": {
      "image/png": "[encoded data removed]",
      "text/plain": [
       "<Figure size 1800x720 with 3 Axes>"
      ]
     },
     "metadata": {
      "needs_background": "light"
     },
     "output_type": "display_data"
    }
   ],
   "source": [
    "# функция содержит в себе групировку, суммирование по продажам и сам график \n",
    "def sales_by_regions(groupby, sales, ax):\n",
    "    pivot = games_actual.groupby(groupby).agg({sales: 'sum'}).sort_values(by=sales, ascending=False)[:5]\n",
    "    title = {'na_sales': 'N.America Sales', 'eu_sales': 'Europe Sales', 'jp_sales': 'Japan Sales'}\n",
    "    plot = pivot.plot(kind='bar', ec='black', ax=axes[ax], title=title[sales], fontsize=15)\n",
    "    plot.title.set_size(15)\n",
    "\n",
    "fig, axes = plt.subplots(1, 3, figsize=(25,10))    \n",
    "sales_by_regions('platform', 'na_sales', 0)\n",
    "sales_by_regions('platform', 'eu_sales', 1)\n",
    "sales_by_regions('platform', 'jp_sales', 2)\n",
    "  "
   ]
  },
  {
   "cell_type": "markdown",
   "metadata": {},
   "source": [
    "Напомню, что я смотрю срез только с 2014 года, так как убежден, что именно эти года наиболее актуальны для определения прогноза на 2017 год. \n",
    "\n",
    "Как мы видим на графиках, Северная  Америка и Европа имеет в топ 2 - PS4 и XboxOne - это было понятно на интуитвном уровне, так как эти консоли основные. В Северной Америке отставание Xbox не такое сильное как в Европе, объясняется тем, что производитель Xbox One - это  Microsoft. В Японии все как всегда иначе, что сказать, другой мир, 3DS там чемпион) , a xbox one вообще курит в сторонке и не вошел в топ5"
   ]
  },
  {
   "cell_type": "markdown",
   "metadata": {},
   "source": [
    "Теперь нам нужно посмотреть самые популярные жанры (топ 5) по тем же регионам."
   ]
  },
  {
   "cell_type": "markdown",
   "metadata": {},
   "source": [
    "и поможет нам та самая функция выше. все больше и больше я их начинаю чтить (я про функции :) ) "
   ]
  },
  {
   "cell_type": "code",
   "execution_count": 71,
   "metadata": {},
   "outputs": [
    {
     "data": {
      "image/png": "[encoded data removed]",
      "text/plain": [
       "<Figure size 1800x720 with 3 Axes>"
      ]
     },
     "metadata": {
      "needs_background": "light"
     },
     "output_type": "display_data"
    }
   ],
   "source": [
    "fig, axes = plt.subplots(1, 3, figsize=(25,10))    \n",
    "sales_by_regions('genre', 'na_sales', 0)\n",
    "sales_by_regions('genre', 'eu_sales', 1)\n",
    "sales_by_regions('genre', 'jp_sales', 2)"
   ]
  },
  {
   "cell_type": "markdown",
   "metadata": {},
   "source": [
    "Североамериканцы и европейцы имеют почти одинаковые вкусы: Шутеры, Экшин, Спортивные игры, Рпг. Топ 3: Шутеры, Экшин, Спорт\n",
    "А Японцы, как всегда, удивляют у них мего популярен РПГ , правда и Экшин не отстает. А вот Шутеры не жалуют совсем"
   ]
  },
  {
   "cell_type": "markdown",
   "metadata": {},
   "source": [
    "Сразу запишу свои мысли, что второй важный фактор, который влияет на продажи, это какой тип жанра в каком регионе будет продвигаться. Как бы мы не старались, но успешно продать Шутер будет нереально"
   ]
  },
  {
   "cell_type": "markdown",
   "metadata": {},
   "source": [
    "Влияет ли рейтинг ESRB на продажи в каждом регионе?"
   ]
  },
  {
   "cell_type": "code",
   "execution_count": 72,
   "metadata": {},
   "outputs": [
    {
     "data": {
      "image/png": "[encoded data removed]",
      "text/plain": [
       "<Figure size 1800x720 with 3 Axes>"
      ]
     },
     "metadata": {
      "needs_background": "light"
     },
     "output_type": "display_data"
    }
   ],
   "source": [
    "#games_actual['rating'].unique()\n",
    "fig, axes = plt.subplots(1, 3, figsize=(25,10))    \n",
    "sales_by_regions('rating', 'na_sales', 0)\n",
    "sales_by_regions('rating', 'eu_sales', 1)\n",
    "sales_by_regions('rating', 'jp_sales', 2)"
   ]
  },
  {
   "cell_type": "markdown",
   "metadata": {},
   "source": [
    "Пришлось загуглись рейтинги ESRB, что бы разобратся, что к чему, в общем, пропишу тут, что:\n",
    "\n",
    "M - Mature, игры для взрослых 17+(да 17 ,а не 18- странно)\n",
    "No Rating - это понятно, что рейтинг не указан, тут либо его забыли указать , либо его нет. я буду считать это как для всех \n",
    "E - Для Всех \n",
    "Т -  13+\n",
    "E10+ - 10+"
   ]
  },
  {
   "cell_type": "markdown",
   "metadata": {},
   "source": [
    "Теперь вывод:\n",
    "\n",
    "с 2014 года в СА и Европе популярны игры для \"Взрослых\" - оно и понятно, все шутеры содержат в себе массивы крови и плоти\n",
    "Дальше объединенный рейтинг игр для всех, потом подростки , ну и потом уже для всех 10 лет +\n",
    "\n",
    "В Японии, опять же я буду придерживаться своей парадигме, что no rating в большей степени это для всех игры - лидируют они, а дальше ,удивление, следуют игры для подростков 13+.\n",
    "\n",
    "Что можно сказать, что в Японии начинают играть раньше чем в Европе и СА, с 13 лет :)\n",
    "\n",
    "P.S вот нам еще один фактор, влияющий на продажи в конкретном регионе. \n",
    "\n",
    "Перехожу к Шагу 5. \n",
    "\n",
    "<font color='blue'> Отлично, портрет пользователя получен верно. все четко и наглядно </font>"
   ]
  },
  {
   "cell_type": "markdown",
   "metadata": {},
   "source": [
    "# Шаг 5. Проверьте гипотезы"
   ]
  },
  {
   "cell_type": "markdown",
   "metadata": {},
   "source": [
    "Гипотеза 1. Средние пользовательские рейтинги платформ Xbox One и PC одинаковые"
   ]
  },
  {
   "cell_type": "markdown",
   "metadata": {},
   "source": [
    "Нулевая гипотеза = Средние пользовательские рейтинги платформ Xbox One и PC одинаковые\n",
    "Альтернатива = не равны\n",
    "alpa = 0.05"
   ]
  },
  {
   "cell_type": "code",
   "execution_count": 91,
   "metadata": {},
   "outputs": [
    {
     "name": "stdout",
     "output_type": "stream",
     "text": [
      "p-значение: 0.10450507919348487\n",
      "Не получилось отвергнуть нулевую гипотезу\n"
     ]
    }
   ],
   "source": [
    "xbox = games_actual[(games_actual['platform'] == 'XOne') & (games_actual['user_score'] > 0)]['user_score']\n",
    "pc = games_actual[(games_actual['platform'] == 'PC') & (games_actual['user_score'] > 0)]['user_score']\n",
    "\n",
    "alpha = .05\n",
    "\n",
    "results = st.ttest_ind(xbox,pc)\n",
    "\n",
    "print('p-значение:', results.pvalue)\n",
    "\n",
    "if (results.pvalue < alpha):\n",
    "    print(\"Отвергаем нулевую гипотезу\")\n",
    "else:\n",
    "    print(\"Не получилось отвергнуть нулевую гипотезу\")"
   ]
  },
  {
   "cell_type": "markdown",
   "metadata": {},
   "source": [
    "Получается, что средние значения оценок не отличаются, а вот ради интереса, посмотрю я за весь период времени "
   ]
  },
  {
   "cell_type": "code",
   "execution_count": 97,
   "metadata": {},
   "outputs": [
    {
     "name": "stdout",
     "output_type": "stream",
     "text": [
      "p-значение: 1.3896435533548407e-05\n",
      "Отвергаем нулевую гипотезу\n"
     ]
    }
   ],
   "source": [
    "xbox = games[(games['platform'] == 'XOne') & (games['user_score'] > 0)]['user_score']\n",
    "pc = games[(games['platform'] == 'PC') & (games['user_score'] > 0)]['user_score']\n",
    "\n",
    "alpha = .05\n",
    "\n",
    "results = st.ttest_ind(xbox,pc)\n",
    "\n",
    "print('p-значение:', results.pvalue)\n",
    "\n",
    "if (results.pvalue < alpha):\n",
    "    print(\"Отвергаем нулевую гипотезу\")\n",
    "else:\n",
    "    print(\"Не получилось отвергнуть нулевую гипотезу\")"
   ]
  },
  {
   "cell_type": "markdown",
   "metadata": {},
   "source": [
    "Ха, интересный факт, а вот за все время данных, средние оценки очень сильно отличаются между Xbox One и PC"
   ]
  },
  {
   "cell_type": "markdown",
   "metadata": {},
   "source": [
    "Гипотеза 2. Средние пользовательские рейтинги жанров Action и Sports разные"
   ]
  },
  {
   "cell_type": "markdown",
   "metadata": {},
   "source": [
    "Нулевая гипотеза = средние пользовательские рейтинги жанров Action и Sports одинаковые\n",
    "Альтернатива  = не равны"
   ]
  },
  {
   "cell_type": "code",
   "execution_count": 98,
   "metadata": {},
   "outputs": [
    {
     "name": "stdout",
     "output_type": "stream",
     "text": [
      "p-значение: 2.871114798510669e-19\n",
      "Отвергаем нулевую гипотезу\n"
     ]
    }
   ],
   "source": [
    "action = games_actual[(games_actual['genre'] == 'Action') & (games_actual['user_score'] > 0)]['user_score']\n",
    "sport = games_actual[(games_actual['genre'] == 'Sports') & (games_actual['user_score'] > 0)]['user_score']\n",
    "\n",
    "alpha = .05\n",
    "\n",
    "results = st.ttest_ind(action,sport)\n",
    "\n",
    "print('p-значение:', results.pvalue)\n",
    "\n",
    "if (results.pvalue < alpha):\n",
    "    print(\"Отвергаем нулевую гипотезу\")\n",
    "else:\n",
    "    print(\"Не получилось отвергнуть нулевую гипотезу\")"
   ]
  },
  {
   "cell_type": "markdown",
   "metadata": {},
   "source": [
    "Так, получается, что с 2014 года средние пользовательские оценки между Экшином и Спортом сильно разнятся, давайте посмотрим историю за все время данных"
   ]
  },
  {
   "cell_type": "code",
   "execution_count": 99,
   "metadata": {},
   "outputs": [
    {
     "name": "stdout",
     "output_type": "stream",
     "text": [
      "p-значение: 0.10406951359050073\n",
      "Не получилось отвергнуть нулевую гипотезу\n"
     ]
    }
   ],
   "source": [
    "action = games[(games['genre'] == 'Action') & (games['user_score'] > 0)]['user_score']\n",
    "sport = games[(games['genre'] == 'Sports') & (games['user_score'] > 0)]['user_score']\n",
    "\n",
    "alpha = .05\n",
    "\n",
    "results = st.ttest_ind(action,sport)\n",
    "\n",
    "print('p-значение:', results.pvalue)\n",
    "\n",
    "if (results.pvalue < alpha):\n",
    "    print(\"Отвергаем нулевую гипотезу\")\n",
    "else:\n",
    "    print(\"Не получилось отвергнуть нулевую гипотезу\")"
   ]
  },
  {
   "cell_type": "markdown",
   "metadata": {},
   "source": [
    "И вот снова в обраточку, за все время данных средние пользовательские оценки между жанром Спорт и Экшин - не отличаются. \n",
    "\n",
    "<font color='blue'> Гипотезы сформулированы и проверены верно. </font>"
   ]
  },
  {
   "cell_type": "markdown",
   "metadata": {},
   "source": [
    "# Шаг 6. Общий вывод"
   ]
  },
  {
   "cell_type": "markdown",
   "metadata": {},
   "source": [
    "Проведенный анализ показал много интересного:\n",
    "\n",
    "1. Оценки критиков влияют на продажи игр, влияют сильнее чем оценки пользователей\n",
    "2. Определенный жанр в определенном регионе также влияет на продажи, пример : Шутер и Экшин для Европы и СА, а РПГ для Японии\n",
    "3. Возрастной рейтинг также влияет на  продажи в определенном регионе, яркий пример Япония. \n",
    "\n",
    "4. Очень важно было делать срез, по актуальности, я сделал с 2014 года и как видно, данные сильно отличаются чем в общей дате.\n",
    "Проверка гипотез это прекрасно показала. \n",
    "\n",
    "Как нужно для планирования промоушина в 2017 году:\n",
    "\n",
    "1. Выбрать точно регион для которого подходит игра или набор игр - по жанру.\n",
    "2. По мимо жанра, игры должны соответствовать регину в ццензурном рейтинге\n",
    "3. Провести работу с критиками, чтобы получить желаемые высокие оценки :)\n",
    "\n",
    "\n",
    "<font color='blue'> Отличный проект, Классное завершение модуля, молодец. Удачи в следующих проектах. </font>"
   ]
  },
  {
   "cell_type": "code",
   "execution_count": null,
   "metadata": {},
   "outputs": [],
   "source": []
  }
 ],
 "metadata": {
  "kernelspec": {
   "display_name": "Python 3",
   "language": "python",
   "name": "python3"
  },
  "language_info": {
   "codemirror_mode": {
    "name": "ipython",
    "version": 3
   },
   "file_extension": ".py",
   "mimetype": "text/x-python",
   "name": "python",
   "nbconvert_exporter": "python",
   "pygments_lexer": "ipython3",
   "version": "3.7.6"
  }
 },
 "nbformat": 4,
 "nbformat_minor": 2
}
